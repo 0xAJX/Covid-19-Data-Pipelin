{
 "cells": [
  {
   "cell_type": "code",
   "execution_count": null,
   "metadata": {
    "collapsed": true,
    "pycharm": {
     "name": "#%%\n"
    }
   },
   "outputs": [],
   "source": [
    "from pyspark.sql import SparkSession\n",
    "from pyspark.sql import functions as func\n",
    "from pyspark.sql.types import DateType, StringType\n",
    "from datetime import datetime\n",
    "from pyspark.sql.functions import date_format\n",
    "import os\n",
    "import sys\n",
    "import psycopg2\n",
    "import pandas as pd\n",
    "from os import listdir\n",
    "from os.path import isfile, join\n",
    "import re\n",
    "import matplotlib.pyplot as plot"
   ]
  },
  {
   "cell_type": "code",
   "execution_count": null,
   "outputs": [],
   "source": [
    "os.environ['PYSPARK_PYTHON'] = sys.executable\n",
    "os.environ['PYSPARK_DRIVER_PYTHON'] = sys.executable"
   ],
   "metadata": {
    "collapsed": false,
    "pycharm": {
     "name": "#%%\n"
    }
   }
  },
  {
   "cell_type": "code",
   "execution_count": null,
   "outputs": [],
   "source": [
    "spark = SparkSession.builder.appName('Covid-19').getOrCreate()\n",
    "df_covid = spark.read.json(\"test-2022-05-04-09-41-41\")\n",
    "df_covid_deaths = df_covid.select(df_covid.date, df_covid.death).filter(func.col(\"death\").isNotNull())\n",
    "df_covid_deaths = df_covid_deaths.withColumn(\"date\", df_covid_deaths[\"date\"].cast(StringType()))\n",
    "df_covid_deaths.show()"
   ],
   "metadata": {
    "collapsed": false,
    "pycharm": {
     "name": "#%%\n"
    }
   }
  },
  {
   "cell_type": "code",
   "execution_count": null,
   "outputs": [],
   "source": [
    "date_format_udf =  func.udf (lambda x: datetime.strptime(x, '%Y%m%d'), DateType())\n",
    "df = df_covid_deaths.withColumn(\"date\", date_format(date_format_udf(func.col('date')), 'MM-dd-yyy'))\n",
    "df.show()"
   ],
   "metadata": {
    "collapsed": false,
    "pycharm": {
     "name": "#%%\n"
    }
   }
  },
  {
   "cell_type": "code",
   "execution_count": null,
   "outputs": [],
   "source": [
    "df.write.mode(\"overwrite\").csv(path=\"ClimateChangeModified/\")"
   ],
   "metadata": {
    "collapsed": false,
    "pycharm": {
     "name": "#%%\n"
    }
   }
  },
  {
   "cell_type": "code",
   "execution_count": null,
   "outputs": [],
   "source": [
    "# driver = \"org.postgresql.Driver\"\n",
    "# url = \"\"\n",
    "# table = \"deathtodate\"\n",
    "# user = \"\"\n",
    "# password = \"\"\n",
    "# db_name = \"\"\n",
    "#\n",
    "# files = [f for f in listdir(\"ClimateChangeModified\") if isfile(join(\"ClimateChangeModified\", f))]\n",
    "#\n",
    "# for f in files:\n",
    "#     if re.search(\".csv$\", f):\n",
    "#         try:\n",
    "#             conn = psycopg2.connect(f\"host='{url}' port='5432' dbname='{db_name}' user='{user}' password='{password}'\")\n",
    "#             cur = conn.cursor()\n",
    "#             f = open(r'ClimateChangeModified/' + f, 'r')\n",
    "#             cur.copy_from(f, table, sep=',', columns=[\"date\", \"death\"])\n",
    "#             conn.commit()\n",
    "#             conn.close()\n",
    "#             print(\"Success\")\n",
    "#         except:\n",
    "#             print(\"Error With Connecting Server\")"
   ],
   "metadata": {
    "collapsed": false,
    "pycharm": {
     "name": "#%%\n"
    }
   }
  },
  {
   "cell_type": "code",
   "execution_count": null,
   "outputs": [],
   "source": [
    "files = [f for f in listdir(\"ClimateChangeModified\") if isfile(join(\"ClimateChangeModified\", f))]\n",
    "\n",
    "for f in files:\n",
    "    if re.search(\".csv$\", f):\n",
    "        dataFrame = pd.read_csv(\"ClimateChangeModified/\" + f, names=[\"date\", \"death\"])"
   ],
   "metadata": {
    "collapsed": false,
    "pycharm": {
     "name": "#%%\n"
    }
   }
  },
  {
   "cell_type": "code",
   "execution_count": null,
   "outputs": [],
   "source": [
    "dataFrame['date']= pd.to_datetime(dataFrame['date'])\n",
    "dataFrame.plot(x=\"date\", y=\"death\", kind=\"area\")"
   ],
   "metadata": {
    "collapsed": false,
    "pycharm": {
     "name": "#%%\n"
    }
   }
  }
 ],
 "metadata": {
  "kernelspec": {
   "display_name": "Python 3",
   "language": "python",
   "name": "python3"
  },
  "language_info": {
   "codemirror_mode": {
    "name": "ipython",
    "version": 2
   },
   "file_extension": ".py",
   "mimetype": "text/x-python",
   "name": "python",
   "nbconvert_exporter": "python",
   "pygments_lexer": "ipython2",
   "version": "2.7.6"
  }
 },
 "nbformat": 4,
 "nbformat_minor": 0
}